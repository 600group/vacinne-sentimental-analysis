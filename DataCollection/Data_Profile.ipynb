{
 "cells": [
  {
   "cell_type": "code",
   "execution_count": 3,
   "id": "90249126",
   "metadata": {},
   "outputs": [
    {
     "name": "stdout",
     "output_type": "stream",
     "text": [
      "2.0    1308\n",
      "1.0     703\n",
      "0.0     565\n",
      "3.0      87\n",
      "Name: True or Not, dtype: int64\n"
     ]
    }
   ],
   "source": [
    "import pandas as pd\n",
    "\n",
    "raw = pd.read_csv('./Raw_Data_Labeled.csv')\n",
    "\n",
    "raw_pd = pd.DataFrame(raw)\n",
    "\n",
    "\n",
    "Attitude = raw_pd.loc[:,\"True or Not\"]\n",
    "\n",
    "print(Attitude.value_counts())\n"
   ]
  },
  {
   "cell_type": "code",
   "execution_count": 4,
   "id": "20b13a16",
   "metadata": {},
   "outputs": [
    {
     "name": "stdout",
     "output_type": "stream",
     "text": [
      "0.0    1563\n",
      "1.0     122\n",
      "Name: isSarcasm, dtype: int64\n"
     ]
    }
   ],
   "source": [
    "Sarcasm = raw_pd.loc[:,\"isSarcasm\"]\n",
    "print(Sarcasm.value_counts())"
   ]
  },
  {
   "cell_type": "code",
   "execution_count": null,
   "id": "ced5ef27",
   "metadata": {},
   "outputs": [],
   "source": []
  },
  {
   "cell_type": "code",
   "execution_count": null,
   "id": "a8eb1864",
   "metadata": {},
   "outputs": [],
   "source": []
  }
 ],
 "metadata": {
  "kernelspec": {
   "display_name": "Python 3 (ipykernel)",
   "language": "python",
   "name": "python3"
  },
  "language_info": {
   "codemirror_mode": {
    "name": "ipython",
    "version": 3
   },
   "file_extension": ".py",
   "mimetype": "text/x-python",
   "name": "python",
   "nbconvert_exporter": "python",
   "pygments_lexer": "ipython3",
   "version": "3.8.13"
  }
 },
 "nbformat": 4,
 "nbformat_minor": 5
}
