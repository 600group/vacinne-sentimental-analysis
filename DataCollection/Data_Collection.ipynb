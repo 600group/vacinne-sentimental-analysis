{
 "cells": [
  {
   "cell_type": "code",
   "execution_count": 3,
   "id": "1a051196",
   "metadata": {},
   "outputs": [],
   "source": [
    "# General dependencies\n",
    "import pandas as pd\n",
    "# For Twitter API extraction\n",
    "import tweepy\n",
    "from dotenv import load_dotenv"
   ]
  },
  {
   "cell_type": "code",
   "execution_count": 4,
   "id": "b32204c3",
   "metadata": {},
   "outputs": [],
   "source": [
    "load_dotenv()\n",
    "# Authenticate to Twitter\n",
    "api_key = '4TkF6dYAmC7wz05srPPZ1SpiR'\n",
    "api_key_secret = 'rAJ0P9SVAgABGTe1CljVHje8n6cXxHxxHviHNroW1JqGjWBfkZ'\n",
    "access_token = '1356062608445456388-Ego4iop6psvQAjfu6FWk4fWufeGQdt'\n",
    "access_token_secret = '6GuTjRWWMcMp4YOmnwErFOnkIuteve9UqmrSWUg03o8t0'"
   ]
  },
  {
   "cell_type": "code",
   "execution_count": 6,
   "id": "d78b15fd",
   "metadata": {},
   "outputs": [],
   "source": [
    "# Authenticate to Twitter\n",
    "auth = tweepy.OAuthHandler(api_key, api_key_secret)\n",
    "auth.set_access_token(access_token, access_token_secret)\n",
    "# Create API object\n",
    "api = tweepy.API(auth, wait_on_rate_limit=True)"
   ]
  },
  {
   "cell_type": "code",
   "execution_count": 16,
   "id": "dec58f82",
   "metadata": {},
   "outputs": [],
   "source": [
    "# Creat a list to storage tweet data\n",
    "list_of_dicts = []\n",
    "# Filter tweets that match the search_term\n",
    "search_term = 'covid19 covid vaccine'\n",
    "num_tweets = 16000"
   ]
  },
  {
   "cell_type": "code",
   "execution_count": 8,
   "id": "24dfbcfb",
   "metadata": {},
   "outputs": [],
   "source": [
    "def get_tweets(search_term = search_term, num_tweets = num_tweets):\n",
    "    tweet_count = len(list_of_dicts)\n",
    "    for tweet in tweepy.Cursor(api.search_tweets,\n",
    "                               q=f'{search_term}',\n",
    "                               lang = 'en',\n",
    "                               count = num_tweets,\n",
    "                               tweet_mode = 'extended').items(num_tweets):\n",
    "        \n",
    "        if (not tweet.retweeted) and ('RT @' not in tweet.full_text):\n",
    "            if tweet.lang == \"en\":\n",
    "                tweet_dict = {}\n",
    "                tweet_dict['username'] = tweet.user.name\n",
    "                tweet_dict['location'] = tweet.user.location\n",
    "                tweet_dict['text'] = tweet.full_text\n",
    "                #tweet_dict['fav_count'] = tweet.favorite_count  \n",
    "                tweet_dict['hashtags'] = tweet.entities['hashtags']\n",
    "                tweet_dict['tweet_date'] = tweet.created_at\n",
    "                list_of_dicts.append(tweet_dict)\n",
    "                tweet_count +=1"
   ]
  },
  {
   "cell_type": "code",
   "execution_count": 17,
   "id": "874d9922",
   "metadata": {},
   "outputs": [
    {
     "name": "stderr",
     "output_type": "stream",
     "text": [
      "Rate limit reached. Sleeping for: 160\n"
     ]
    }
   ],
   "source": [
    "get_tweets()"
   ]
  },
  {
   "cell_type": "code",
   "execution_count": 18,
   "id": "83f71f69",
   "metadata": {},
   "outputs": [
    {
     "data": {
      "text/plain": [
       "2674"
      ]
     },
     "execution_count": 18,
     "metadata": {},
     "output_type": "execute_result"
    }
   ],
   "source": [
    "len(list_of_dicts)"
   ]
  },
  {
   "cell_type": "code",
   "execution_count": 19,
   "id": "30bd3d27",
   "metadata": {},
   "outputs": [
    {
     "data": {
      "text/html": [
       "<div>\n",
       "<style scoped>\n",
       "    .dataframe tbody tr th:only-of-type {\n",
       "        vertical-align: middle;\n",
       "    }\n",
       "\n",
       "    .dataframe tbody tr th {\n",
       "        vertical-align: top;\n",
       "    }\n",
       "\n",
       "    .dataframe thead th {\n",
       "        text-align: right;\n",
       "    }\n",
       "</style>\n",
       "<table border=\"1\" class=\"dataframe\">\n",
       "  <thead>\n",
       "    <tr style=\"text-align: right;\">\n",
       "      <th></th>\n",
       "      <th>username</th>\n",
       "      <th>location</th>\n",
       "      <th>text</th>\n",
       "      <th>hashtags</th>\n",
       "      <th>tweet_date</th>\n",
       "    </tr>\n",
       "  </thead>\n",
       "  <tbody>\n",
       "    <tr>\n",
       "      <th>0</th>\n",
       "      <td>Wendy</td>\n",
       "      <td></td>\n",
       "      <td>California Delays COVID-19 Vaccine Mandate to ...</td>\n",
       "      <td>[]</td>\n",
       "      <td>2022-04-15 15:11:39+00:00</td>\n",
       "    </tr>\n",
       "    <tr>\n",
       "      <th>1</th>\n",
       "      <td>Crystal M. Huff, 赫 晶 (they/them)</td>\n",
       "      <td>Boston and elsewhere</td>\n",
       "      <td>This was my experience last week, too, when I ...</td>\n",
       "      <td>[]</td>\n",
       "      <td>2022-04-15 15:11:53+00:00</td>\n",
       "    </tr>\n",
       "    <tr>\n",
       "      <th>2</th>\n",
       "      <td>ACE</td>\n",
       "      <td>Malta</td>\n",
       "      <td>@fancyboy_11 @BDJames6 @KaivanShroff The MSM m...</td>\n",
       "      <td>[]</td>\n",
       "      <td>2022-04-15 15:12:04+00:00</td>\n",
       "    </tr>\n",
       "    <tr>\n",
       "      <th>3</th>\n",
       "      <td>Christine Stabell Benn</td>\n",
       "      <td>Copenhagen, Denmark</td>\n",
       "      <td>@TonyAlm57618783 @TracyBethHoeg A quick glance...</td>\n",
       "      <td>[]</td>\n",
       "      <td>2022-04-15 15:12:08+00:00</td>\n",
       "    </tr>\n",
       "    <tr>\n",
       "      <th>4</th>\n",
       "      <td>Crimzenfunk</td>\n",
       "      <td>State of siege - WA</td>\n",
       "      <td>@arbieville @Sasbites At last check, the ABS h...</td>\n",
       "      <td>[]</td>\n",
       "      <td>2022-04-15 15:12:15+00:00</td>\n",
       "    </tr>\n",
       "    <tr>\n",
       "      <th>...</th>\n",
       "      <td>...</td>\n",
       "      <td>...</td>\n",
       "      <td>...</td>\n",
       "      <td>...</td>\n",
       "      <td>...</td>\n",
       "    </tr>\n",
       "    <tr>\n",
       "      <th>2669</th>\n",
       "      <td>Freedom</td>\n",
       "      <td></td>\n",
       "      <td>@ElizabethArno20 @acoyne And if you pay really...</td>\n",
       "      <td>[]</td>\n",
       "      <td>2022-04-16 02:28:30+00:00</td>\n",
       "    </tr>\n",
       "    <tr>\n",
       "      <th>2670</th>\n",
       "      <td>Tony Young</td>\n",
       "      <td>Ohio</td>\n",
       "      <td>@Justin4917 @ShaggyHulk @GovMikeDeWine @JoeBid...</td>\n",
       "      <td>[]</td>\n",
       "      <td>2022-04-16 02:28:39+00:00</td>\n",
       "    </tr>\n",
       "    <tr>\n",
       "      <th>2671</th>\n",
       "      <td>Emily Pember</td>\n",
       "      <td>Lubbock, TX</td>\n",
       "      <td>Maybe a lot of people aren’t as dumb as @NYCMa...</td>\n",
       "      <td>[]</td>\n",
       "      <td>2022-04-16 02:29:11+00:00</td>\n",
       "    </tr>\n",
       "    <tr>\n",
       "      <th>2672</th>\n",
       "      <td>Zarp</td>\n",
       "      <td>Michigan, USA</td>\n",
       "      <td>Covid Live Updates: BA.2 Rise Across U.S. Evid...</td>\n",
       "      <td>[]</td>\n",
       "      <td>2022-04-16 02:29:11+00:00</td>\n",
       "    </tr>\n",
       "    <tr>\n",
       "      <th>2673</th>\n",
       "      <td>Trish Salcedo</td>\n",
       "      <td>Plano, TX</td>\n",
       "      <td>@YNB I got the 2nd booster yesterday with my 2...</td>\n",
       "      <td>[]</td>\n",
       "      <td>2022-04-16 02:29:16+00:00</td>\n",
       "    </tr>\n",
       "  </tbody>\n",
       "</table>\n",
       "<p>2674 rows × 5 columns</p>\n",
       "</div>"
      ],
      "text/plain": [
       "                              username              location  \\\n",
       "0                                Wendy                         \n",
       "1     Crystal M. Huff, 赫 晶 (they/them)  Boston and elsewhere   \n",
       "2                                  ACE                 Malta   \n",
       "3               Christine Stabell Benn   Copenhagen, Denmark   \n",
       "4                          Crimzenfunk   State of siege - WA   \n",
       "...                                ...                   ...   \n",
       "2669                           Freedom                         \n",
       "2670                        Tony Young                  Ohio   \n",
       "2671                      Emily Pember           Lubbock, TX   \n",
       "2672                              Zarp         Michigan, USA   \n",
       "2673                     Trish Salcedo             Plano, TX   \n",
       "\n",
       "                                                   text hashtags  \\\n",
       "0     California Delays COVID-19 Vaccine Mandate to ...       []   \n",
       "1     This was my experience last week, too, when I ...       []   \n",
       "2     @fancyboy_11 @BDJames6 @KaivanShroff The MSM m...       []   \n",
       "3     @TonyAlm57618783 @TracyBethHoeg A quick glance...       []   \n",
       "4     @arbieville @Sasbites At last check, the ABS h...       []   \n",
       "...                                                 ...      ...   \n",
       "2669  @ElizabethArno20 @acoyne And if you pay really...       []   \n",
       "2670  @Justin4917 @ShaggyHulk @GovMikeDeWine @JoeBid...       []   \n",
       "2671  Maybe a lot of people aren’t as dumb as @NYCMa...       []   \n",
       "2672  Covid Live Updates: BA.2 Rise Across U.S. Evid...       []   \n",
       "2673  @YNB I got the 2nd booster yesterday with my 2...       []   \n",
       "\n",
       "                    tweet_date  \n",
       "0    2022-04-15 15:11:39+00:00  \n",
       "1    2022-04-15 15:11:53+00:00  \n",
       "2    2022-04-15 15:12:04+00:00  \n",
       "3    2022-04-15 15:12:08+00:00  \n",
       "4    2022-04-15 15:12:15+00:00  \n",
       "...                        ...  \n",
       "2669 2022-04-16 02:28:30+00:00  \n",
       "2670 2022-04-16 02:28:39+00:00  \n",
       "2671 2022-04-16 02:29:11+00:00  \n",
       "2672 2022-04-16 02:29:11+00:00  \n",
       "2673 2022-04-16 02:29:16+00:00  \n",
       "\n",
       "[2674 rows x 5 columns]"
      ]
     },
     "execution_count": 19,
     "metadata": {},
     "output_type": "execute_result"
    }
   ],
   "source": [
    "# Transfer data list to dataframe\n",
    "tweets_df = pd.DataFrame(list_of_dicts)\n",
    "tweets_df.sort_values(by='tweet_date').reset_index(drop = True)"
   ]
  },
  {
   "cell_type": "code",
   "execution_count": 20,
   "id": "ba73f9d6",
   "metadata": {},
   "outputs": [],
   "source": [
    "# Write data to CSV file\n",
    "tweets_df.to_csv('tweets.csv', index =False)"
   ]
  },
  {
   "cell_type": "code",
   "execution_count": null,
   "id": "ee1b04c7",
   "metadata": {},
   "outputs": [],
   "source": []
  }
 ],
 "metadata": {
  "kernelspec": {
   "display_name": "Python 3 (ipykernel)",
   "language": "python",
   "name": "python3"
  },
  "language_info": {
   "codemirror_mode": {
    "name": "ipython",
    "version": 3
   },
   "file_extension": ".py",
   "mimetype": "text/x-python",
   "name": "python",
   "nbconvert_exporter": "python",
   "pygments_lexer": "ipython3",
   "version": "3.10.4"
  }
 },
 "nbformat": 4,
 "nbformat_minor": 5
}