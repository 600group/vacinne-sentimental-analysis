{
 "cells": [
  {
   "cell_type": "code",
   "execution_count": 1,
   "id": "1a051196",
   "metadata": {},
   "outputs": [
    {
     "data": {
      "application/vnd.jupyter.widget-view+json": {
       "model_id": "38103d4e0b8243b689d438153edc5a9b",
       "version_major": 2,
       "version_minor": 0
      },
      "text/plain": [
       "Downloading https://raw.githubusercontent.com/stanfordnlp/stanza-resources/main/resources_1.3.0.json:   0%|   …"
      ]
     },
     "metadata": {},
     "output_type": "display_data"
    },
    {
     "name": "stderr",
     "output_type": "stream",
     "text": [
      "2022-04-14 21:34:44 INFO: Downloading default packages for language: en (English)...\n",
      "2022-04-14 21:34:45 INFO: File exists: C:\\Users\\hyx94\\stanza_resources\\en\\default.zip.\n",
      "2022-04-14 21:34:47 INFO: Finished downloading models and saved to C:\\Users\\hyx94\\stanza_resources.\n"
     ]
    }
   ],
   "source": [
    "# General dependencies\n",
    "import numpy as np\n",
    "import pandas as pd\n",
    "import matplotlib.pyplot as plt\n",
    "%matplotlib inline\n",
    "import seaborn as sns\n",
    "import re\n",
    "import os\n",
    "import time\n",
    "from datetime import datetime, date, timedelta\n",
    "\n",
    "# For Twitter API extraction\n",
    "import tweepy\n",
    "#!pip install python-dotenv\n",
    "from dotenv import load_dotenv\n",
    "\n",
    "# Tweet pre-processor\n",
    "import preprocessor as p\n",
    "import stanza\n",
    "#stanza.download('en')"
   ]
  },
  {
   "cell_type": "code",
   "execution_count": 2,
   "id": "b32204c3",
   "metadata": {},
   "outputs": [],
   "source": [
    "load_dotenv()\n",
    "\n",
    "api_key = '4TkF6dYAmC7wz05srPPZ1SpiR'\n",
    "api_key_secret = 'rAJ0P9SVAgABGTe1CljVHje8n6cXxHxxHviHNroW1JqGjWBfkZ'\n",
    "access_token = '1356062608445456388-Ego4iop6psvQAjfu6FWk4fWufeGQdt'\n",
    "access_token_secret = '6GuTjRWWMcMp4YOmnwErFOnkIuteve9UqmrSWUg03o8t0'"
   ]
  },
  {
   "cell_type": "code",
   "execution_count": 3,
   "id": "d78b15fd",
   "metadata": {},
   "outputs": [],
   "source": [
    "auth = tweepy.OAuthHandler(api_key, api_key_secret)\n",
    "auth.set_access_token(access_token, access_token_secret)\n",
    "api = tweepy.API(auth)"
   ]
  },
  {
   "cell_type": "code",
   "execution_count": 4,
   "id": "1fc8d707",
   "metadata": {},
   "outputs": [],
   "source": [
    "# Generate list of dates (7 days window) based on today's date\n",
    "list_of_dates = []\n",
    "today = date.today()\n",
    "for i in range(-7,1):\n",
    "    target_date = (today + timedelta(days=i)).strftime(\"%Y-%m-%d\")\n",
    "    list_of_dates.append(target_date)"
   ]
  },
  {
   "cell_type": "code",
   "execution_count": 5,
   "id": "dec58f82",
   "metadata": {},
   "outputs": [],
   "source": [
    "list_of_dicts = []\n",
    "search_term = 'covid19 covid vaccine'\n",
    "num_tweets = 10"
   ]
  },
  {
   "cell_type": "code",
   "execution_count": 6,
   "id": "24dfbcfb",
   "metadata": {},
   "outputs": [],
   "source": [
    "def get_tweets(search_term = search_term, num_tweets = num_tweets):\n",
    "    \n",
    "    for end_date in list_of_dates:\n",
    "        start_date = (datetime.strptime(end_date, '%Y-%m-%d') - timedelta(days=1)).strftime(\"%Y-%m-%d\") # Create 1-day windows for extraction\n",
    "        tweet_count = len(list_of_dicts)\n",
    "\n",
    "        for tweet in tweepy.Cursor(api.search_tweets,\n",
    "                                   q=f'{search_term} since:{start_date} until:{end_date}',\n",
    "                                   lang = 'en',\n",
    "                                   count = num_tweets,\n",
    "                                   tweet_mode = 'extended').items(num_tweets):\n",
    "            if (not tweet.retweeted) and ('RT @' not in tweet.full_text):\n",
    "                if tweet.lang == \"en\":\n",
    "                    tweet_dict = {}\n",
    "                    tweet_dict['username'] = tweet.user.name\n",
    "                    tweet_dict['location'] = tweet.user.location\n",
    "                    tweet_dict['text'] = tweet.full_text\n",
    "                    #tweet_dict['fav_count'] = tweet.favorite_count  \n",
    "                    tweet_dict['hashtags'] = tweet.entities['hashtags']\n",
    "                    tweet_dict['tweet_date'] = tweet.created_at\n",
    "                    list_of_dicts.append(tweet_dict)\n",
    "                    tweet_count +=1\n",
    "                    print(f'Extracted tweet count = {tweet_count}')\n",
    "                \n",
    "        print(f'Completed extraction for {start_date} to {end_date}. Sleep for 15 mins')\n",
    "        time.sleep(900)\n",
    "        print('Ready to go again')"
   ]
  },
  {
   "cell_type": "code",
   "execution_count": 7,
   "id": "874d9922",
   "metadata": {},
   "outputs": [
    {
     "name": "stdout",
     "output_type": "stream",
     "text": [
      "Extracted tweet count = 1\n",
      "Extracted tweet count = 2\n",
      "Completed extraction for 2022-04-06 to 2022-04-07. Sleep for 15 mins\n",
      "Ready to go again\n",
      "Extracted tweet count = 3\n",
      "Extracted tweet count = 4\n",
      "Completed extraction for 2022-04-07 to 2022-04-08. Sleep for 15 mins\n",
      "Ready to go again\n",
      "Completed extraction for 2022-04-08 to 2022-04-09. Sleep for 15 mins\n"
     ]
    },
    {
     "ename": "KeyboardInterrupt",
     "evalue": "",
     "output_type": "error",
     "traceback": [
      "\u001b[1;31m---------------------------------------------------------------------------\u001b[0m",
      "\u001b[1;31mKeyboardInterrupt\u001b[0m                         Traceback (most recent call last)",
      "Input \u001b[1;32mIn [7]\u001b[0m, in \u001b[0;36m<cell line: 1>\u001b[1;34m()\u001b[0m\n\u001b[1;32m----> 1\u001b[0m \u001b[43mget_tweets\u001b[49m\u001b[43m(\u001b[49m\u001b[43m)\u001b[49m\n",
      "Input \u001b[1;32mIn [6]\u001b[0m, in \u001b[0;36mget_tweets\u001b[1;34m(search_term, num_tweets)\u001b[0m\n\u001b[0;32m     23\u001b[0m             \u001b[38;5;28mprint\u001b[39m(\u001b[38;5;124mf\u001b[39m\u001b[38;5;124m'\u001b[39m\u001b[38;5;124mExtracted tweet count = \u001b[39m\u001b[38;5;132;01m{\u001b[39;00mtweet_count\u001b[38;5;132;01m}\u001b[39;00m\u001b[38;5;124m'\u001b[39m)\n\u001b[0;32m     25\u001b[0m \u001b[38;5;28mprint\u001b[39m(\u001b[38;5;124mf\u001b[39m\u001b[38;5;124m'\u001b[39m\u001b[38;5;124mCompleted extraction for \u001b[39m\u001b[38;5;132;01m{\u001b[39;00mstart_date\u001b[38;5;132;01m}\u001b[39;00m\u001b[38;5;124m to \u001b[39m\u001b[38;5;132;01m{\u001b[39;00mend_date\u001b[38;5;132;01m}\u001b[39;00m\u001b[38;5;124m. Sleep for 15 mins\u001b[39m\u001b[38;5;124m'\u001b[39m)\n\u001b[1;32m---> 26\u001b[0m \u001b[43mtime\u001b[49m\u001b[38;5;241;43m.\u001b[39;49m\u001b[43msleep\u001b[49m\u001b[43m(\u001b[49m\u001b[38;5;241;43m900\u001b[39;49m\u001b[43m)\u001b[49m\n\u001b[0;32m     27\u001b[0m \u001b[38;5;28mprint\u001b[39m(\u001b[38;5;124m'\u001b[39m\u001b[38;5;124mReady to go again\u001b[39m\u001b[38;5;124m'\u001b[39m)\n",
      "\u001b[1;31mKeyboardInterrupt\u001b[0m: "
     ]
    }
   ],
   "source": [
    "get_tweets()"
   ]
  },
  {
   "cell_type": "code",
   "execution_count": 10,
   "id": "83f71f69",
   "metadata": {},
   "outputs": [
    {
     "data": {
      "text/plain": [
       "[{'username': 'houmania',\n",
       "  'location': '',\n",
       "  'text': '@GovCanHealth Maybe you should discuss the latest #CovidVaccine Pfizer data dump on April 1st and the \"large number of spontaneous adverse event\" they reported. \\n\\n#COVID19 \\nhttps://t.co/YJneUgcXlH',\n",
       "  'hashtags': [{'text': 'CovidVaccine', 'indices': [50, 63]},\n",
       "   {'text': 'COVID19', 'indices': [163, 171]}],\n",
       "  'tweet_date': datetime.datetime(2022, 4, 6, 23, 57, 22, tzinfo=datetime.timezone.utc)},\n",
       " {'username': 'Global Learner 🌎',\n",
       "  'location': 'Earth',\n",
       "  'text': 'Where in Canada are fourth COVID vaccine doses being offered and to whom? https://t.co/YOFxP5VYGj #CovidIsNotOver #COVID19 #vaccinations #DidYouKnow',\n",
       "  'hashtags': [{'text': 'CovidIsNotOver', 'indices': [98, 113]},\n",
       "   {'text': 'COVID19', 'indices': [114, 122]},\n",
       "   {'text': 'vaccinations', 'indices': [123, 136]},\n",
       "   {'text': 'DidYouKnow', 'indices': [137, 148]}],\n",
       "  'tweet_date': datetime.datetime(2022, 4, 6, 23, 46, 31, tzinfo=datetime.timezone.utc)},\n",
       " {'username': 'ACT Health',\n",
       "  'location': 'Canberra, Australia',\n",
       "  'text': 'We are only vaccinating people aged 12 years and over at this pop up. Children aged 5 to 11 years can get vaccinated at the AIS Arena (walk ins available for first doses), Access and Sensory clinic in Weston Creek or at a participating GP or pharmacy.\\n\\nhttps://t.co/RtKGUSPsPY',\n",
       "  'hashtags': [],\n",
       "  'tweet_date': datetime.datetime(2022, 4, 7, 23, 55, 17, tzinfo=datetime.timezone.utc)},\n",
       " {'username': 'APPRISE',\n",
       "  'location': 'Australia',\n",
       "  'text': 'Could computer models be key to better #COVID vaccines?\\n\\nFor vaccine dosing decisions, past experience and best guesses won the day in the rush to beat back the pandemic. Modelling tools might have made a difference\\n\\n#COVID19 #COVID19Aus #covidvaccines\\nhttps://t.co/oYA0BM0FMX',\n",
       "  'hashtags': [{'text': 'COVID', 'indices': [39, 45]},\n",
       "   {'text': 'COVID19', 'indices': [217, 225]},\n",
       "   {'text': 'COVID19Aus', 'indices': [226, 237]},\n",
       "   {'text': 'covidvaccines', 'indices': [238, 252]}],\n",
       "  'tweet_date': datetime.datetime(2022, 4, 7, 23, 35, 28, tzinfo=datetime.timezone.utc)}]"
      ]
     },
     "execution_count": 10,
     "metadata": {},
     "output_type": "execute_result"
    }
   ],
   "source": [
    "list_of_dicts[0:4]"
   ]
  },
  {
   "cell_type": "code",
   "execution_count": 11,
   "id": "30bd3d27",
   "metadata": {},
   "outputs": [
    {
     "data": {
      "text/html": [
       "<div>\n",
       "<style scoped>\n",
       "    .dataframe tbody tr th:only-of-type {\n",
       "        vertical-align: middle;\n",
       "    }\n",
       "\n",
       "    .dataframe tbody tr th {\n",
       "        vertical-align: top;\n",
       "    }\n",
       "\n",
       "    .dataframe thead th {\n",
       "        text-align: right;\n",
       "    }\n",
       "</style>\n",
       "<table border=\"1\" class=\"dataframe\">\n",
       "  <thead>\n",
       "    <tr style=\"text-align: right;\">\n",
       "      <th></th>\n",
       "      <th>username</th>\n",
       "      <th>location</th>\n",
       "      <th>text</th>\n",
       "      <th>hashtags</th>\n",
       "      <th>tweet_date</th>\n",
       "    </tr>\n",
       "  </thead>\n",
       "  <tbody>\n",
       "    <tr>\n",
       "      <th>0</th>\n",
       "      <td>Global Learner 🌎</td>\n",
       "      <td>Earth</td>\n",
       "      <td>Where in Canada are fourth COVID vaccine doses...</td>\n",
       "      <td>[{'text': 'CovidIsNotOver', 'indices': [98, 11...</td>\n",
       "      <td>2022-04-06 23:46:31+00:00</td>\n",
       "    </tr>\n",
       "    <tr>\n",
       "      <th>1</th>\n",
       "      <td>houmania</td>\n",
       "      <td></td>\n",
       "      <td>@GovCanHealth Maybe you should discuss the lat...</td>\n",
       "      <td>[{'text': 'CovidVaccine', 'indices': [50, 63]}...</td>\n",
       "      <td>2022-04-06 23:57:22+00:00</td>\n",
       "    </tr>\n",
       "    <tr>\n",
       "      <th>2</th>\n",
       "      <td>APPRISE</td>\n",
       "      <td>Australia</td>\n",
       "      <td>Could computer models be key to better #COVID ...</td>\n",
       "      <td>[{'text': 'COVID', 'indices': [39, 45]}, {'tex...</td>\n",
       "      <td>2022-04-07 23:35:28+00:00</td>\n",
       "    </tr>\n",
       "    <tr>\n",
       "      <th>3</th>\n",
       "      <td>ACT Health</td>\n",
       "      <td>Canberra, Australia</td>\n",
       "      <td>We are only vaccinating people aged 12 years a...</td>\n",
       "      <td>[]</td>\n",
       "      <td>2022-04-07 23:55:17+00:00</td>\n",
       "    </tr>\n",
       "  </tbody>\n",
       "</table>\n",
       "</div>"
      ],
      "text/plain": [
       "           username             location  \\\n",
       "0  Global Learner 🌎                Earth   \n",
       "1          houmania                        \n",
       "2           APPRISE            Australia   \n",
       "3        ACT Health  Canberra, Australia   \n",
       "\n",
       "                                                text  \\\n",
       "0  Where in Canada are fourth COVID vaccine doses...   \n",
       "1  @GovCanHealth Maybe you should discuss the lat...   \n",
       "2  Could computer models be key to better #COVID ...   \n",
       "3  We are only vaccinating people aged 12 years a...   \n",
       "\n",
       "                                            hashtags                tweet_date  \n",
       "0  [{'text': 'CovidIsNotOver', 'indices': [98, 11... 2022-04-06 23:46:31+00:00  \n",
       "1  [{'text': 'CovidVaccine', 'indices': [50, 63]}... 2022-04-06 23:57:22+00:00  \n",
       "2  [{'text': 'COVID', 'indices': [39, 45]}, {'tex... 2022-04-07 23:35:28+00:00  \n",
       "3                                                 [] 2022-04-07 23:55:17+00:00  "
      ]
     },
     "execution_count": 11,
     "metadata": {},
     "output_type": "execute_result"
    }
   ],
   "source": [
    "tweets_df = pd.DataFrame(list_of_dicts)\n",
    "tweets_df.sort_values(by='tweet_date').reset_index(drop = True)"
   ]
  },
  {
   "cell_type": "code",
   "execution_count": 13,
   "id": "ba73f9d6",
   "metadata": {},
   "outputs": [],
   "source": [
    "tweets_df.to_csv('demo.csv', index =False)"
   ]
  },
  {
   "cell_type": "code",
   "execution_count": null,
   "id": "bb853292",
   "metadata": {},
   "outputs": [],
   "source": [
    "def extract_hashtags(hashtag_list):\n",
    "    \n",
    "    s = \"\" # Create empty string\n",
    "    if not hashtag_list: # If list is empty, return empty string\n",
    "        return s\n",
    "    else:\n",
    "        for dictionary in hashtag_list:\n",
    "            s+= str(dictionary['text'].lower() + ',') # Create string (lowercase) for each hashtag text\n",
    "        s = s[:-1] # Drop last character ','\n",
    "        return s"
   ]
  },
  {
   "cell_type": "code",
   "execution_count": null,
   "id": "315c0eef",
   "metadata": {},
   "outputs": [],
   "source": [
    "# Extract hashtags\n",
    "tweets_df['hashtags_extracted'] = tweets_df['hashtags'].apply(lambda x: extract_hashtags(x))\n",
    "tweets_df.drop(columns = 'hashtags', inplace = True)"
   ]
  },
  {
   "cell_type": "code",
   "execution_count": null,
   "id": "30943ba3",
   "metadata": {},
   "outputs": [],
   "source": [
    "tweets_df.head()"
   ]
  }
 ],
 "metadata": {
  "kernelspec": {
   "display_name": "Python 3 (ipykernel)",
   "language": "python",
   "name": "python3"
  },
  "language_info": {
   "codemirror_mode": {
    "name": "ipython",
    "version": 3
   },
   "file_extension": ".py",
   "mimetype": "text/x-python",
   "name": "python",
   "nbconvert_exporter": "python",
   "pygments_lexer": "ipython3",
   "version": "3.10.4"
  }
 },
 "nbformat": 4,
 "nbformat_minor": 5
}
