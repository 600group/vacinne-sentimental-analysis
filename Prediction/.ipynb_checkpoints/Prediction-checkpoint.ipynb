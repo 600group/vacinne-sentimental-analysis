{
 "cells": [
  {
   "cell_type": "code",
   "execution_count": 2,
   "id": "f09bf2bc",
   "metadata": {},
   "outputs": [],
   "source": [
    "import pandas as pd\n",
    "\n",
    "raw = pd.read_csv('./final_prediction.csv')\n",
    "\n",
    "raw_pd = pd.DataFrame(raw)\n"
   ]
  },
  {
   "cell_type": "code",
   "execution_count": 8,
   "id": "099bd55b",
   "metadata": {},
   "outputs": [],
   "source": [
    "range_end = len(raw_pd.index)\n",
    "\n",
    "for element in range(range_end):\n",
    "    if raw_pd.loc[element].at[\"sentiment\"] == 2:\n",
    "        raw_pd.loc[element, \"attitude\"] = 2\n",
    "    \n",
    "    elif raw_pd.loc[element].at[\"sentiment\"] == 1:\n",
    "        if raw_pd.loc[element, \"is_sarcastic\"] == 0:\n",
    "            raw_pd.loc[element, \"attitude\"] = 1\n",
    "        \n",
    "        elif raw_pd.loc[element, \"is_sarcastic\"] == 1:\n",
    "            raw_pd.loc[element, \"attitude\"] = 0\n",
    "            \n",
    "    \n",
    "    elif raw_pd.loc[element].at[\"sentiment\"] == 0:\n",
    "        if raw_pd.loc[element, \"is_sarcastic\"] == 0:\n",
    "            raw_pd.loc[element, \"attitude\"] = 0\n",
    "        \n",
    "        elif raw_pd.loc[element, \"is_sarcastic\"] == 1:\n",
    "            raw_pd.loc[element, \"attitude\"] = 1\n",
    "raw_pd.to_csv('Final_final_prediction.csv', index =False)"
   ]
  },
  {
   "cell_type": "code",
   "execution_count": 9,
   "id": "901f11ce",
   "metadata": {},
   "outputs": [
    {
     "name": "stdout",
     "output_type": "stream",
     "text": [
      "1.0    9338\n",
      "2.0    9239\n",
      "0.0    9232\n",
      "Name: attitude, dtype: int64\n"
     ]
    }
   ],
   "source": [
    "attitude = raw_pd.loc[:,\"attitude\"]\n",
    "print(attitude.value_counts())"
   ]
  },
  {
   "cell_type": "code",
   "execution_count": null,
   "id": "046f01a9",
   "metadata": {},
   "outputs": [],
   "source": []
  }
 ],
 "metadata": {
  "kernelspec": {
   "display_name": "Python 3 (ipykernel)",
   "language": "python",
   "name": "python3"
  },
  "language_info": {
   "codemirror_mode": {
    "name": "ipython",
    "version": 3
   },
   "file_extension": ".py",
   "mimetype": "text/x-python",
   "name": "python",
   "nbconvert_exporter": "python",
   "pygments_lexer": "ipython3",
   "version": "3.8.13"
  }
 },
 "nbformat": 4,
 "nbformat_minor": 5
}
